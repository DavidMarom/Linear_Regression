import matplotlib.pyplot as plt
import numpy as np

from sklearn import datasets, linear_model

house_price = [100,110,120,130,140,150,160,170,180,190]
size = [95,115,120,130,147,159,159,170,178,190]

size2 = np.array(size).reshape((-1,1))
print(size2)

regr = linear_model.LinearRegression()
regr.fit(size2,house_price)

print (regr.coef_)
print (regr.intercept_)

def graph(formula, x_range):
    x = np.array(x_range)
    y = eval(formula)
    plt.plot(x,y)
    

graph('regr.coef_*x + regr.intercept_', range(90,320))
plt.scatter (size,house_price, color='black')
plt.ylabel('house price')
plt.xlabel('house size')

size_new = 310
price = (size_new * regr.coef_)+ regr.intercept_
plt.scatter (size_new, price, color='red')


plt.show()
print('Price for a 310 size house will be: ' , price)

